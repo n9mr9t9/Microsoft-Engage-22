{
 "cells": [
  {
   "cell_type": "markdown",
   "id": "6e2bbc50",
   "metadata": {},
   "source": [
    "# Microsoft Intern Engage 2022"
   ]
  },
  {
   "cell_type": "markdown",
   "id": "209e78c2",
   "metadata": {},
   "source": [
    "# Data Analysis Track - To demonstrate how the Automotive Industry can harness data to take informed decisions."
   ]
  },
  {
   "cell_type": "markdown",
   "id": "1393c076",
   "metadata": {},
   "source": [
    "## Predicting estimated carbon dioxide emissions"
   ]
  },
  {
   "cell_type": "code",
   "execution_count": 2,
   "id": "e0d6e6e2",
   "metadata": {},
   "outputs": [],
   "source": [
    "import pandas as pd\n",
    "import numpy as np\n",
    "import matplotlib.pyplot as plt\n",
    "import seaborn as sns"
   ]
  },
  {
   "cell_type": "markdown",
   "id": "5ccb0218",
   "metadata": {},
   "source": [
    "#### Importing the dataset"
   ]
  },
  {
   "cell_type": "code",
   "execution_count": 3,
   "id": "794c88b8",
   "metadata": {},
   "outputs": [
    {
     "data": {
      "text/html": [
       "<div>\n",
       "<style scoped>\n",
       "    .dataframe tbody tr th:only-of-type {\n",
       "        vertical-align: middle;\n",
       "    }\n",
       "\n",
       "    .dataframe tbody tr th {\n",
       "        vertical-align: top;\n",
       "    }\n",
       "\n",
       "    .dataframe thead th {\n",
       "        text-align: right;\n",
       "    }\n",
       "</style>\n",
       "<table border=\"1\" class=\"dataframe\">\n",
       "  <thead>\n",
       "    <tr style=\"text-align: right;\">\n",
       "      <th></th>\n",
       "      <th>MODELYEAR</th>\n",
       "      <th>MAKE</th>\n",
       "      <th>MODEL</th>\n",
       "      <th>VEHICLECLASS</th>\n",
       "      <th>ENGINESIZE</th>\n",
       "      <th>CYLINDERS</th>\n",
       "      <th>TRANSMISSION</th>\n",
       "      <th>FUELTYPE</th>\n",
       "      <th>FUELCONSUMPTION_CITY</th>\n",
       "      <th>FUELCONSUMPTION_HWY</th>\n",
       "      <th>FUELCONSUMPTION_COMB</th>\n",
       "      <th>FUELCONSUMPTION_COMB_MPG</th>\n",
       "      <th>CO2EMISSIONS</th>\n",
       "    </tr>\n",
       "  </thead>\n",
       "  <tbody>\n",
       "    <tr>\n",
       "      <th>0</th>\n",
       "      <td>2014</td>\n",
       "      <td>ACURA</td>\n",
       "      <td>ILX</td>\n",
       "      <td>COMPACT</td>\n",
       "      <td>2.0</td>\n",
       "      <td>4</td>\n",
       "      <td>AS5</td>\n",
       "      <td>Z</td>\n",
       "      <td>9.9</td>\n",
       "      <td>6.7</td>\n",
       "      <td>8.5</td>\n",
       "      <td>33</td>\n",
       "      <td>196</td>\n",
       "    </tr>\n",
       "    <tr>\n",
       "      <th>1</th>\n",
       "      <td>2014</td>\n",
       "      <td>ACURA</td>\n",
       "      <td>ILX</td>\n",
       "      <td>COMPACT</td>\n",
       "      <td>2.4</td>\n",
       "      <td>4</td>\n",
       "      <td>M6</td>\n",
       "      <td>Z</td>\n",
       "      <td>11.2</td>\n",
       "      <td>7.7</td>\n",
       "      <td>9.6</td>\n",
       "      <td>29</td>\n",
       "      <td>221</td>\n",
       "    </tr>\n",
       "    <tr>\n",
       "      <th>2</th>\n",
       "      <td>2014</td>\n",
       "      <td>ACURA</td>\n",
       "      <td>ILX HYBRID</td>\n",
       "      <td>COMPACT</td>\n",
       "      <td>1.5</td>\n",
       "      <td>4</td>\n",
       "      <td>AV7</td>\n",
       "      <td>Z</td>\n",
       "      <td>6.0</td>\n",
       "      <td>5.8</td>\n",
       "      <td>5.9</td>\n",
       "      <td>48</td>\n",
       "      <td>136</td>\n",
       "    </tr>\n",
       "    <tr>\n",
       "      <th>3</th>\n",
       "      <td>2014</td>\n",
       "      <td>ACURA</td>\n",
       "      <td>MDX 4WD</td>\n",
       "      <td>SUV - SMALL</td>\n",
       "      <td>3.5</td>\n",
       "      <td>6</td>\n",
       "      <td>AS6</td>\n",
       "      <td>Z</td>\n",
       "      <td>12.7</td>\n",
       "      <td>9.1</td>\n",
       "      <td>11.1</td>\n",
       "      <td>25</td>\n",
       "      <td>255</td>\n",
       "    </tr>\n",
       "    <tr>\n",
       "      <th>4</th>\n",
       "      <td>2014</td>\n",
       "      <td>ACURA</td>\n",
       "      <td>RDX AWD</td>\n",
       "      <td>SUV - SMALL</td>\n",
       "      <td>3.5</td>\n",
       "      <td>6</td>\n",
       "      <td>AS6</td>\n",
       "      <td>Z</td>\n",
       "      <td>12.1</td>\n",
       "      <td>8.7</td>\n",
       "      <td>10.6</td>\n",
       "      <td>27</td>\n",
       "      <td>244</td>\n",
       "    </tr>\n",
       "    <tr>\n",
       "      <th>...</th>\n",
       "      <td>...</td>\n",
       "      <td>...</td>\n",
       "      <td>...</td>\n",
       "      <td>...</td>\n",
       "      <td>...</td>\n",
       "      <td>...</td>\n",
       "      <td>...</td>\n",
       "      <td>...</td>\n",
       "      <td>...</td>\n",
       "      <td>...</td>\n",
       "      <td>...</td>\n",
       "      <td>...</td>\n",
       "      <td>...</td>\n",
       "    </tr>\n",
       "    <tr>\n",
       "      <th>1062</th>\n",
       "      <td>2014</td>\n",
       "      <td>VOLVO</td>\n",
       "      <td>XC60 AWD</td>\n",
       "      <td>SUV - SMALL</td>\n",
       "      <td>3.0</td>\n",
       "      <td>6</td>\n",
       "      <td>AS6</td>\n",
       "      <td>X</td>\n",
       "      <td>13.4</td>\n",
       "      <td>9.8</td>\n",
       "      <td>11.8</td>\n",
       "      <td>24</td>\n",
       "      <td>271</td>\n",
       "    </tr>\n",
       "    <tr>\n",
       "      <th>1063</th>\n",
       "      <td>2014</td>\n",
       "      <td>VOLVO</td>\n",
       "      <td>XC60 AWD</td>\n",
       "      <td>SUV - SMALL</td>\n",
       "      <td>3.2</td>\n",
       "      <td>6</td>\n",
       "      <td>AS6</td>\n",
       "      <td>X</td>\n",
       "      <td>13.2</td>\n",
       "      <td>9.5</td>\n",
       "      <td>11.5</td>\n",
       "      <td>25</td>\n",
       "      <td>264</td>\n",
       "    </tr>\n",
       "    <tr>\n",
       "      <th>1064</th>\n",
       "      <td>2014</td>\n",
       "      <td>VOLVO</td>\n",
       "      <td>XC70 AWD</td>\n",
       "      <td>SUV - SMALL</td>\n",
       "      <td>3.0</td>\n",
       "      <td>6</td>\n",
       "      <td>AS6</td>\n",
       "      <td>X</td>\n",
       "      <td>13.4</td>\n",
       "      <td>9.8</td>\n",
       "      <td>11.8</td>\n",
       "      <td>24</td>\n",
       "      <td>271</td>\n",
       "    </tr>\n",
       "    <tr>\n",
       "      <th>1065</th>\n",
       "      <td>2014</td>\n",
       "      <td>VOLVO</td>\n",
       "      <td>XC70 AWD</td>\n",
       "      <td>SUV - SMALL</td>\n",
       "      <td>3.2</td>\n",
       "      <td>6</td>\n",
       "      <td>AS6</td>\n",
       "      <td>X</td>\n",
       "      <td>12.9</td>\n",
       "      <td>9.3</td>\n",
       "      <td>11.3</td>\n",
       "      <td>25</td>\n",
       "      <td>260</td>\n",
       "    </tr>\n",
       "    <tr>\n",
       "      <th>1066</th>\n",
       "      <td>2014</td>\n",
       "      <td>VOLVO</td>\n",
       "      <td>XC90 AWD</td>\n",
       "      <td>SUV - STANDARD</td>\n",
       "      <td>3.2</td>\n",
       "      <td>6</td>\n",
       "      <td>AS6</td>\n",
       "      <td>X</td>\n",
       "      <td>14.9</td>\n",
       "      <td>10.2</td>\n",
       "      <td>12.8</td>\n",
       "      <td>22</td>\n",
       "      <td>294</td>\n",
       "    </tr>\n",
       "  </tbody>\n",
       "</table>\n",
       "<p>1067 rows × 13 columns</p>\n",
       "</div>"
      ],
      "text/plain": [
       "      MODELYEAR   MAKE       MODEL    VEHICLECLASS  ENGINESIZE  CYLINDERS  \\\n",
       "0          2014  ACURA         ILX         COMPACT         2.0          4   \n",
       "1          2014  ACURA         ILX         COMPACT         2.4          4   \n",
       "2          2014  ACURA  ILX HYBRID         COMPACT         1.5          4   \n",
       "3          2014  ACURA     MDX 4WD     SUV - SMALL         3.5          6   \n",
       "4          2014  ACURA     RDX AWD     SUV - SMALL         3.5          6   \n",
       "...         ...    ...         ...             ...         ...        ...   \n",
       "1062       2014  VOLVO    XC60 AWD     SUV - SMALL         3.0          6   \n",
       "1063       2014  VOLVO    XC60 AWD     SUV - SMALL         3.2          6   \n",
       "1064       2014  VOLVO    XC70 AWD     SUV - SMALL         3.0          6   \n",
       "1065       2014  VOLVO    XC70 AWD     SUV - SMALL         3.2          6   \n",
       "1066       2014  VOLVO    XC90 AWD  SUV - STANDARD         3.2          6   \n",
       "\n",
       "     TRANSMISSION FUELTYPE  FUELCONSUMPTION_CITY  FUELCONSUMPTION_HWY  \\\n",
       "0             AS5        Z                   9.9                  6.7   \n",
       "1              M6        Z                  11.2                  7.7   \n",
       "2             AV7        Z                   6.0                  5.8   \n",
       "3             AS6        Z                  12.7                  9.1   \n",
       "4             AS6        Z                  12.1                  8.7   \n",
       "...           ...      ...                   ...                  ...   \n",
       "1062          AS6        X                  13.4                  9.8   \n",
       "1063          AS6        X                  13.2                  9.5   \n",
       "1064          AS6        X                  13.4                  9.8   \n",
       "1065          AS6        X                  12.9                  9.3   \n",
       "1066          AS6        X                  14.9                 10.2   \n",
       "\n",
       "      FUELCONSUMPTION_COMB  FUELCONSUMPTION_COMB_MPG  CO2EMISSIONS  \n",
       "0                      8.5                        33           196  \n",
       "1                      9.6                        29           221  \n",
       "2                      5.9                        48           136  \n",
       "3                     11.1                        25           255  \n",
       "4                     10.6                        27           244  \n",
       "...                    ...                       ...           ...  \n",
       "1062                  11.8                        24           271  \n",
       "1063                  11.5                        25           264  \n",
       "1064                  11.8                        24           271  \n",
       "1065                  11.3                        25           260  \n",
       "1066                  12.8                        22           294  \n",
       "\n",
       "[1067 rows x 13 columns]"
      ]
     },
     "execution_count": 3,
     "metadata": {},
     "output_type": "execute_result"
    }
   ],
   "source": [
    "df = pd.read_csv(r\"C:\\Users\\namra\\Downloads\\FuelConsumption.csv\")\n",
    "df"
   ]
  },
  {
   "cell_type": "markdown",
   "id": "46d5b0e7",
   "metadata": {},
   "source": [
    "#### Plotting graph between engine size and co2 emissions"
   ]
  },
  {
   "cell_type": "code",
   "execution_count": 4,
   "id": "868f758a",
   "metadata": {},
   "outputs": [
    {
     "data": {
      "image/png": "[encoded data removed]",
      "text/plain": [
       "<Figure size 936x360 with 1 Axes>"
      ]
     },
     "metadata": {
      "needs_background": "light"
     },
     "output_type": "display_data"
    }
   ],
   "source": [
    "plt.figure(figsize=(13,5)) \n",
    "sns.lineplot(x=df['ENGINESIZE'], y=df['CO2EMISSIONS']) \n",
    "plt.xlabel('Engine size') \n",
    "plt.ylabel('CO2 emissions') \n",
    "plt.show()\n",
    "#positive relation between engine size and CO2 emissions. As engine size increases, so does CO2 emissions"
   ]
  },
  {
   "cell_type": "code",
   "execution_count": 5,
   "id": "4e05fe0b",
   "metadata": {},
   "outputs": [
    {
     "data": {
      "image/png": "[encoded data removed]",
      "text/plain": [
       "<Figure size 432x288 with 1 Axes>"
      ]
     },
     "metadata": {
      "needs_background": "light"
     },
     "output_type": "display_data"
    }
   ],
   "source": [
    "plt.scatter(df.ENGINESIZE, df.CO2EMISSIONS)\n",
    "plt.xlabel(\"Engine size\")\n",
    "plt.ylabel(\"Emission\")\n",
    "plt.title('Emission values with respect to engine size')\n",
    "plt.show()"
   ]
  },
  {
   "cell_type": "code",
   "execution_count": 6,
   "id": "f008fab8",
   "metadata": {},
   "outputs": [],
   "source": [
    "from sklearn import linear_model \n",
    "from sklearn.metrics import r2_score, mean_squared_error,mean_absolute_error \n",
    "from sklearn.model_selection import train_test_split\n",
    "\n",
    "x = df[['ENGINESIZE']] \n",
    "y = df[['CO2EMISSIONS']]"
   ]
  },
  {
   "cell_type": "code",
   "execution_count": 7,
   "id": "fe9a4f98",
   "metadata": {},
   "outputs": [],
   "source": [
    "x_train, x_test, y_train, y_test = train_test_split(x, y, test_size=0.2, random_state=42)"
   ]
  },
  {
   "cell_type": "code",
   "execution_count": 8,
   "id": "1b7b8b6e",
   "metadata": {},
   "outputs": [],
   "source": [
    "model = linear_model.LinearRegression()"
   ]
  },
  {
   "cell_type": "code",
   "execution_count": 9,
   "id": "9a0e84d3",
   "metadata": {},
   "outputs": [
    {
     "data": {
      "text/plain": [
       "LinearRegression()"
      ]
     },
     "execution_count": 9,
     "metadata": {},
     "output_type": "execute_result"
    }
   ],
   "source": [
    "model.fit(x_train, y_train)"
   ]
  },
  {
   "cell_type": "code",
   "execution_count": 10,
   "id": "cae4280f",
   "metadata": {},
   "outputs": [
    {
     "name": "stdout",
     "output_type": "stream",
     "text": [
      "(A) intercept: [126.28970217] | (B) slope: [[38.99297872]]\n"
     ]
    }
   ],
   "source": [
    "print(f'(A) intercept: {model.intercept_} | (B) slope: {model.coef_}')"
   ]
  },
  {
   "cell_type": "code",
   "execution_count": 11,
   "id": "50634d1c",
   "metadata": {},
   "outputs": [
    {
     "data": {
      "text/plain": [
       "array([[309.55670218],\n",
       "       [262.76512771],\n",
       "       [266.66442558],\n",
       "       [243.26863835],\n",
       "       [204.27565962],\n",
       "       [243.26863835],\n",
       "       [266.66442558],\n",
       "       [282.26161707],\n",
       "       [321.2545958 ],\n",
       "       [266.66442558],\n",
       "       [266.66442558],\n",
       "       [387.54265963],\n",
       "       [251.06723409],\n",
       "       [262.76512771],\n",
       "       [266.66442558],\n",
       "       [262.76512771],\n",
       "       [188.67846813],\n",
       "       [266.66442558],\n",
       "       [188.67846813],\n",
       "       [332.95248941],\n",
       "       [321.2545958 ],\n",
       "       [196.47706388],\n",
       "       [251.06723409],\n",
       "       [270.56372345],\n",
       "       [243.26863835],\n",
       "       [196.47706388],\n",
       "       [204.27565962],\n",
       "       [188.67846813],\n",
       "       [340.75108516],\n",
       "       [251.06723409],\n",
       "       [336.85178729],\n",
       "       [219.87285111],\n",
       "       [196.47706388],\n",
       "       [321.2545958 ],\n",
       "       [243.26863835],\n",
       "       [309.55670218],\n",
       "       [282.26161707],\n",
       "       [332.95248941],\n",
       "       [204.27565962],\n",
       "       [223.77214899],\n",
       "       [188.67846813],\n",
       "       [188.67846813],\n",
       "       [180.87987239],\n",
       "       [223.77214899],\n",
       "       [282.26161707],\n",
       "       [188.67846813],\n",
       "       [243.26863835],\n",
       "       [243.26863835],\n",
       "       [204.27565962],\n",
       "       [329.05319154],\n",
       "       [368.04617027],\n",
       "       [266.66442558],\n",
       "       [204.27565962],\n",
       "       [270.56372345],\n",
       "       [243.26863835],\n",
       "       [332.95248941],\n",
       "       [332.95248941],\n",
       "       [348.5496809 ],\n",
       "       [204.27565962],\n",
       "       [293.95951069],\n",
       "       [282.26161707],\n",
       "       [293.95951069],\n",
       "       [297.85880856],\n",
       "       [266.66442558],\n",
       "       [188.67846813],\n",
       "       [258.86582984],\n",
       "       [180.87987239],\n",
       "       [313.45600005],\n",
       "       [243.26863835],\n",
       "       [270.56372345],\n",
       "       [321.2545958 ],\n",
       "       [204.27565962],\n",
       "       [262.76512771],\n",
       "       [204.27565962],\n",
       "       [204.27565962],\n",
       "       [266.66442558],\n",
       "       [332.95248941],\n",
       "       [368.04617027],\n",
       "       [368.04617027],\n",
       "       [262.76512771],\n",
       "       [219.87285111],\n",
       "       [196.47706388],\n",
       "       [231.57074473],\n",
       "       [262.76512771],\n",
       "       [188.67846813],\n",
       "       [243.26863835],\n",
       "       [243.26863835],\n",
       "       [204.27565962],\n",
       "       [348.5496809 ],\n",
       "       [204.27565962],\n",
       "       [231.57074473],\n",
       "       [290.06021282],\n",
       "       [262.76512771],\n",
       "       [196.47706388],\n",
       "       [204.27565962],\n",
       "       [204.27565962],\n",
       "       [219.87285111],\n",
       "       [262.76512771],\n",
       "       [266.66442558],\n",
       "       [344.65038303],\n",
       "       [368.04617027],\n",
       "       [223.77214899],\n",
       "       [266.66442558],\n",
       "       [219.87285111],\n",
       "       [266.66442558],\n",
       "       [165.2826809 ],\n",
       "       [243.26863835],\n",
       "       [204.27565962],\n",
       "       [219.87285111],\n",
       "       [204.27565962],\n",
       "       [184.77917026],\n",
       "       [262.76512771],\n",
       "       [266.66442558],\n",
       "       [231.57074473],\n",
       "       [305.65740431],\n",
       "       [266.66442558],\n",
       "       [270.56372345],\n",
       "       [313.45600005],\n",
       "       [266.66442558],\n",
       "       [188.67846813],\n",
       "       [262.76512771],\n",
       "       [184.77917026],\n",
       "       [231.57074473],\n",
       "       [196.47706388],\n",
       "       [243.26863835],\n",
       "       [219.87285111],\n",
       "       [266.66442558],\n",
       "       [204.27565962],\n",
       "       [348.5496809 ],\n",
       "       [204.27565962],\n",
       "       [188.67846813],\n",
       "       [188.67846813],\n",
       "       [360.24757452],\n",
       "       [196.47706388],\n",
       "       [262.76512771],\n",
       "       [243.26863835],\n",
       "       [243.26863835],\n",
       "       [340.75108516],\n",
       "       [204.27565962],\n",
       "       [282.26161707],\n",
       "       [348.5496809 ],\n",
       "       [262.76512771],\n",
       "       [188.67846813],\n",
       "       [266.66442558],\n",
       "       [180.87987239],\n",
       "       [262.76512771],\n",
       "       [266.66442558],\n",
       "       [196.47706388],\n",
       "       [293.95951069],\n",
       "       [329.05319154],\n",
       "       [204.27565962],\n",
       "       [262.76512771],\n",
       "       [251.06723409],\n",
       "       [243.26863835],\n",
       "       [243.26863835],\n",
       "       [293.95951069],\n",
       "       [321.2545958 ],\n",
       "       [243.26863835],\n",
       "       [196.47706388],\n",
       "       [266.66442558],\n",
       "       [375.84476601],\n",
       "       [340.75108516],\n",
       "       [204.27565962],\n",
       "       [266.66442558],\n",
       "       [219.87285111],\n",
       "       [266.66442558],\n",
       "       [231.57074473],\n",
       "       [348.5496809 ],\n",
       "       [204.27565962],\n",
       "       [180.87987239],\n",
       "       [204.27565962],\n",
       "       [368.04617027],\n",
       "       [356.34827665],\n",
       "       [274.46302133],\n",
       "       [336.85178729],\n",
       "       [196.47706388],\n",
       "       [262.76512771],\n",
       "       [204.27565962],\n",
       "       [274.46302133],\n",
       "       [243.26863835],\n",
       "       [196.47706388],\n",
       "       [204.27565962],\n",
       "       [243.26863835],\n",
       "       [336.85178729],\n",
       "       [223.77214899],\n",
       "       [321.2545958 ],\n",
       "       [332.95248941],\n",
       "       [173.08127664],\n",
       "       [188.67846813],\n",
       "       [184.77917026],\n",
       "       [223.77214899],\n",
       "       [196.47706388],\n",
       "       [223.77214899],\n",
       "       [188.67846813],\n",
       "       [188.67846813],\n",
       "       [196.47706388],\n",
       "       [262.76512771],\n",
       "       [204.27565962],\n",
       "       [274.46302133],\n",
       "       [204.27565962],\n",
       "       [321.2545958 ],\n",
       "       [184.77917026],\n",
       "       [305.65740431],\n",
       "       [219.87285111],\n",
       "       [348.5496809 ],\n",
       "       [360.24757452],\n",
       "       [219.87285111],\n",
       "       [204.27565962],\n",
       "       [332.95248941],\n",
       "       [204.27565962],\n",
       "       [219.87285111],\n",
       "       [219.87285111],\n",
       "       [243.26863835],\n",
       "       [453.83072346]])"
      ]
     },
     "execution_count": 11,
     "metadata": {},
     "output_type": "execute_result"
    }
   ],
   "source": [
    "y_pred=model.predict(x_test)\n",
    "y_pred"
   ]
  },
  {
   "cell_type": "code",
   "execution_count": 12,
   "id": "81226b9c",
   "metadata": {},
   "outputs": [
    {
     "data": {
      "text/plain": [
       "31.399652374309806"
      ]
     },
     "execution_count": 12,
     "metadata": {},
     "output_type": "execute_result"
    }
   ],
   "source": [
    "from sklearn.metrics import mean_squared_error\n",
    "mse=mean_squared_error(y_test,y_pred)\n",
    "rmse=np.sqrt(mse)\n",
    "rmse"
   ]
  },
  {
   "cell_type": "code",
   "execution_count": 13,
   "id": "8267e724",
   "metadata": {},
   "outputs": [
    {
     "name": "stdout",
     "output_type": "stream",
     "text": [
      "0.7615595731934374\n"
     ]
    }
   ],
   "source": [
    "r2 = model.score(x_test,y_test)\n",
    "print(r2)\n"
   ]
  },
  {
   "cell_type": "code",
   "execution_count": 14,
   "id": "52ebc7b3",
   "metadata": {},
   "outputs": [],
   "source": [
    "def predict_co2(e):\n",
    "    co2 = 126.289 + 38.992*e\n",
    "    return co2"
   ]
  },
  {
   "cell_type": "code",
   "execution_count": 15,
   "id": "b616b768",
   "metadata": {},
   "outputs": [
    {
     "data": {
      "text/plain": [
       "204.273"
      ]
     },
     "execution_count": 15,
     "metadata": {},
     "output_type": "execute_result"
    }
   ],
   "source": [
    "predict_co2(2)"
   ]
  },
  {
   "cell_type": "code",
   "execution_count": null,
   "id": "d0b223c0",
   "metadata": {},
   "outputs": [],
   "source": []
  }
 ],
 "metadata": {
  "kernelspec": {
   "display_name": "Python 3 (ipykernel)",
   "language": "python",
   "name": "python3"
  },
  "language_info": {
   "codemirror_mode": {
    "name": "ipython",
    "version": 3
   },
   "file_extension": ".py",
   "mimetype": "text/x-python",
   "name": "python",
   "nbconvert_exporter": "python",
   "pygments_lexer": "ipython3",
   "version": "3.9.7"
  }
 },
 "nbformat": 4,
 "nbformat_minor": 5
}
